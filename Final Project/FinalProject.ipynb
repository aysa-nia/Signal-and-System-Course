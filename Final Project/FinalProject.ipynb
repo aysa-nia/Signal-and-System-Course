{
  "cells": [
    {
      "cell_type": "code",
      "execution_count": null,
      "metadata": {
        "id": "2Lvfcgf5f0bE"
      },
      "outputs": [],
      "source": [
        "import numpy as np\n",
        "import soundfile as sf\n",
        "from scipy.fft import fft, ifft\n",
        "import pandas as pd\n",
        "import statsmodels.api as sm\n",
        "from scipy.signal import find_peaks\n",
        "import scipy.signal as sps\n",
        "import wave"
      ]
    },
    {
      "cell_type": "code",
      "execution_count": 4,
      "metadata": {
        "id": "WE-RCfZ-9f2E"
      },
      "outputs": [],
      "source": [
        "def pitch_finder(data ,  freq):\n",
        "  auto = sm.tsa.acf(data, nlags=2000)\n",
        "  peaks = find_peaks(auto)[0] \n",
        "  lag = peaks[0] \n",
        "  pitch = freq / lag \n",
        "  return pitch\n"
      ]
    },
    {
      "cell_type": "code",
      "execution_count": null,
      "metadata": {
        "id": "ehalDacFf3pf"
      },
      "outputs": [],
      "source": [
        "def SpeedChanger(const , input , output):\n",
        "    x, sr = sf.read(input)\n",
        "    sf.write('temp.wav', x, int(sr*const))\n",
        "    data , freq = sf.read('temp.wav')\n",
        "    pitch = pitch_finder(x[:, 0] , freq)\n",
        "    new_pitch = pitch_finder(data[:, 0] , freq * const)\n",
        "    shift_amount = abs( new_pitch - pitch)\n",
        "    shift_right = np.empty(data.shape)\n",
        "    shift_left = np.empty(data.shape)\n",
        "    for i in range(0 , len(data)):\n",
        "      shift_right[i] = data[i] *(np.cos(-1*shift_amount*2*np.pi *i) + 1j*np.sin(-1*shift_amount*i*2*np.pi)) \n",
        "      shift_left[i] = data[i] *(np.cos(2*shift_amount*2*np.pi *i) + 1j*np.sin(2*shift_amount*i*2*np.pi)) #pow(np.exp, 1j * shift_amount *i)\n",
        "    result = np.concatenate((shift_left,shift_right))\n",
        "    sf.write(output, result, freq)\n",
        "\n",
        "SpeedChanger( 2, 'input.wav' , 'output.wav')\n",
        "\n"
      ]
    }
  ],
  "metadata": {
    "colab": {
      "collapsed_sections": [],
      "name": "FinalProject.ipynb",
      "provenance": []
    },
    "kernelspec": {
      "display_name": "Python 3",
      "name": "python3"
    },
    "language_info": {
      "name": "python"
    }
  },
  "nbformat": 4,
  "nbformat_minor": 0
}
